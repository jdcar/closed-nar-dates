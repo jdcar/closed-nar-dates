{
 "cells": [
  {
   "cell_type": "code",
   "execution_count": null,
   "id": "a9e71951",
   "metadata": {},
   "outputs": [],
   "source": [
    "import re\n",
    "import csv\n",
    "import pandas as pd"
   ]
  },
  {
   "cell_type": "markdown",
   "id": "b6ce7310-140a-42ae-9fc6-5e8e07a80edd",
   "metadata": {},
   "source": [
    "https://www.oclc.org/authority-records.html"
   ]
  },
  {
   "cell_type": "code",
   "execution_count": null,
   "id": "974cb7ca-2d39-4c61-aaf7-ba29a29bce04",
   "metadata": {},
   "outputs": [],
   "source": [
    "# Import excel file\n",
    "df4 = pd.read_excel('updates/_20211107.xlsx')\n",
    "df4"
   ]
  },
  {
   "cell_type": "code",
   "execution_count": null,
   "id": "b0d12cfb",
   "metadata": {},
   "outputs": [],
   "source": [
    "#this builds normalization rules to update\n",
    "df4\n",
    "df4[\"Compare1\"] = df4.Old.replace({r'(^...)(...)(.+?)( ‡d )(.+)' : r'\\1\\2\\3'}, regex=True)\n",
    "df4[\"Compare2\"] = df4.New.replace({r'(^...)(...)(.+?)( ‡d )(.+)' : r'\\1\\2\\3'}, regex=True)\n",
    "df4[\"Normrule1\"] = \"replaceContents \\\"100.d.\"+ df4.Old.replace({r'(^...)(...)(.+?)( ‡d )(.+)' : r'\\5'}, regex=True) + \"\\\" with \\\"\" + df4.New.replace({r'(^...)(...)(.+?)( ‡d )(.+)' : r'\\5'}, regex=True) + \"\\\" if(exists \\\"100.{*,*}.a.\" + df4.Old.replace({r'(^...)(...)(.+?)( ‡.+)' : r'\\3'}, regex=True) + \"\\\")\"\n",
    "df4[\"Normrule2\"] = \"replaceContents \\\"700.d.\"+ df4.Old.replace({r'(^...)(...)(.+?)( ‡d )(.+)' : r'\\5'}, regex=True) + \"\\\" with \\\"\" + df4.New.replace({r'(^...)(...)(.+?)( ‡d )(.+)' : r'\\5'}, regex=True) + \"\\\" if(exists \\\"700.{*,*}.a.\" + df4.Old.replace({r'(^...)(...)(.+?)( ‡.+)' : r'\\3'}, regex=True) + \"\\\")\"\n",
    "df4[\"Normrule3\"] = \"replaceContents \\\"600.d.\"+ df4.Old.replace({r'(^...)(...)(.+?)( ‡d )(.+)' : r'\\5'}, regex=True) + \"\\\" with \\\"\" + df4.New.replace({r'(^...)(...)(.+?)( ‡d )(.+)' : r'\\5'}, regex=True) + \"\\\" if(exists \\\"600.{*,*}.a.\" + df4.Old.replace({r'(^...)(...)(.+?)( ‡.+)' : r'\\3'}, regex=True) + \"\\\")\"\n",
    "df4[\"ForAlma\"] = df4.Old.replace({r' ‡. ' : \" \"}, regex=True).replace({r'^......' : \" \"}, regex=True).str.strip() + \";\"\n",
    "\n",
    "\n",
    "df4['Compare'] = df4[\"Compare1\"].str.strip() == df4[\"Compare2\"].str.strip()\n",
    "\n",
    "#Compare\n",
    "\n",
    "\n",
    "df4.sort_values(by=['Compare']).loc[df4['Compare'] == True]"
   ]
  },
  {
   "cell_type": "code",
   "execution_count": null,
   "id": "fc6b985d",
   "metadata": {},
   "outputs": [],
   "source": [
    "df4.sort_values(by=['Compare']).loc[df4['Compare'] == True].to_csv(\"result.txt\", encoding=\"utf-8\" )"
   ]
  },
  {
   "cell_type": "code",
   "execution_count": null,
   "id": "9e9f4c3e-e8f6-4c59-a9ed-f282b2fa080a",
   "metadata": {},
   "outputs": [],
   "source": [
    "# df4.sort_values(by=['Compare']).loc[df4['Compare'] == True].to_excel('output1.xlsx')  \n",
    "df4.sort_values(by=['Compare']).loc[df4['Compare'] == True].to_excel(\"output.xlsx\")"
   ]
  },
  {
   "cell_type": "markdown",
   "id": "054eda0b",
   "metadata": {},
   "source": [
    "Alma steps\n",
    "1. In Alma analytics, open the report oclc-closed-dates-test\n",
    "2. Search \"Contains any\" for all the names in column ForAlma separated by a \";\". Do this for 100, 600, and 700.\n",
    "3. Make a set in Alma with the results\n",
    "4. Create a normalization rule with the Normrule columns above\n",
    "\n",
    "<p>rule \"change 600\"</p>\n",
    "<p>when </p>\n",
    "<p>TRUE</p>\n",
    "<p>then </p>\n",
    "\n",
    "<p>[NORM RULES]</p>\n",
    "\n",
    "<p>end</p>\n",
    "\n",
    "For now, leave out any that are False in the last column. Those need to be done manually because other subfields besides the dates were changed."
   ]
  },
  {
   "cell_type": "code",
   "execution_count": null,
   "id": "cbfbc8e0",
   "metadata": {},
   "outputs": [],
   "source": [
    "df4.loc[df4['Compare'] == False]\n",
    "#prints the headings where something other than the dates is different"
   ]
  },
  {
   "cell_type": "code",
   "execution_count": null,
   "id": "a0fe69d3",
   "metadata": {},
   "outputs": [],
   "source": [
    "df4.loc[df4['Compare'] == False].to_csv(\"result-false.txt\", encoding=\"utf-8\" )"
   ]
  },
  {
   "cell_type": "code",
   "execution_count": null,
   "id": "0b5d8efb-234b-4469-80f3-f8c090b12416",
   "metadata": {},
   "outputs": [],
   "source": []
  }
 ],
 "metadata": {
  "kernelspec": {
   "display_name": "Python 3 (ipykernel)",
   "language": "python",
   "name": "python3"
  },
  "language_info": {
   "codemirror_mode": {
    "name": "ipython",
    "version": 3
   },
   "file_extension": ".py",
   "mimetype": "text/x-python",
   "name": "python",
   "nbconvert_exporter": "python",
   "pygments_lexer": "ipython3",
   "version": "3.12.2"
  }
 },
 "nbformat": 4,
 "nbformat_minor": 5
}
